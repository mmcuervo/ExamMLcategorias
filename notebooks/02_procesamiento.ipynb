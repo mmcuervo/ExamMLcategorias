#Aquí se procesan y ajustna todos los features
