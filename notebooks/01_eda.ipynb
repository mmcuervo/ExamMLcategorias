#Este es el archivo dónde se hace la revisión exploratoria del dataset
